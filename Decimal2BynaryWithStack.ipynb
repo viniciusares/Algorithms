{
  "nbformat": 4,
  "nbformat_minor": 0,
  "metadata": {
    "colab": {
      "name": "Decimal2BynaryWithStack.ipynb",
      "provenance": []
    },
    "kernelspec": {
      "name": "python3",
      "display_name": "Python 3"
    }
  },
  "cells": [
    {
      "cell_type": "code",
      "metadata": {
        "id": "n9UfYNsl8S6w"
      },
      "source": [
        "# Vinicius Ares - 2020-10-04\n",
        "# It receives a decimal number and prints it's binary digits using stack"
      ],
      "execution_count": null,
      "outputs": []
    },
    {
      "cell_type": "code",
      "metadata": {
        "id": "pM9GjcqJ9iw0",
        "outputId": "c20ec5b2-334d-49a1-86b7-69a1b705ba7e",
        "colab": {
          "base_uri": "https://localhost:8080/",
          "height": 472
        }
      },
      "source": [
        "x = int(input('enter a decimal number: '))\n",
        "\n",
        "mystack = []\n",
        "mystack.append(x)\n",
        "\n",
        "while mystack[-1] > 1:\n",
        "  print('last is: ', mystack[-1])\n",
        "  current = mystack.pop()\n",
        "  print('current is: ', current)\n",
        "  mystack.append(current % 2)\n",
        "  print('after appending remainder, stack is: ', mystack)\n",
        "  mystack.append(current // 2)\n",
        "  print('after appending quotient, stack is: ', mystack)\n",
        "\n",
        "print('\\n === second part === \\n')\n",
        "\n",
        "while len(mystack) > 0:\n",
        "  print(mystack.pop(), end='')\n"
      ],
      "execution_count": 12,
      "outputs": [
        {
          "output_type": "stream",
          "text": [
            "enter a decimal number: 59\n",
            "last is:  59\n",
            "current is:  59\n",
            "after appending remainder, stack is:  [1]\n",
            "after appending quotient, stack is:  [1, 29]\n",
            "last is:  29\n",
            "current is:  29\n",
            "after appending remainder, stack is:  [1, 1]\n",
            "after appending quotient, stack is:  [1, 1, 14]\n",
            "last is:  14\n",
            "current is:  14\n",
            "after appending remainder, stack is:  [1, 1, 0]\n",
            "after appending quotient, stack is:  [1, 1, 0, 7]\n",
            "last is:  7\n",
            "current is:  7\n",
            "after appending remainder, stack is:  [1, 1, 0, 1]\n",
            "after appending quotient, stack is:  [1, 1, 0, 1, 3]\n",
            "last is:  3\n",
            "current is:  3\n",
            "after appending remainder, stack is:  [1, 1, 0, 1, 1]\n",
            "after appending quotient, stack is:  [1, 1, 0, 1, 1, 1]\n",
            "\n",
            " === second part === \n",
            "\n",
            "111011"
          ],
          "name": "stdout"
        }
      ]
    }
  ]
}